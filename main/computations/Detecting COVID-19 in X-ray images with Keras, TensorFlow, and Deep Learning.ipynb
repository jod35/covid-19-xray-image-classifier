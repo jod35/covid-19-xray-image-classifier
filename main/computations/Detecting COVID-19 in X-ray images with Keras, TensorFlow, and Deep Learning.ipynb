{
 "cells": [
  {
   "cell_type": "code",
   "execution_count": 3,
   "metadata": {},
   "outputs": [
    {
     "name": "stdout",
     "output_type": "stream",
     "text": [
      "Requirement already satisfied: imutils in /home/jod35/anaconda3/lib/python3.8/site-packages (0.5.3)\n",
      "Hello\n"
     ]
    }
   ],
   "source": [
    "# import the necessary packages\n",
    "from tensorflow.keras.preprocessing.image import ImageDataGenerator\n",
    "from tensorflow.keras.applications import VGG16\n",
    "from tensorflow.keras.layers import AveragePooling2D\n",
    "from tensorflow.keras.layers import Dropout\n",
    "from tensorflow.keras.layers import Flatten\n",
    "from tensorflow.keras.layers import Dense\n",
    "from tensorflow.keras.layers import Input\n",
    "from tensorflow.keras.models import Model\n",
    "from tensorflow.keras.optimizers import Adam\n",
    "from tensorflow.keras.utils import to_categorical\n",
    "from sklearn.preprocessing import LabelBinarizer\n",
    "from sklearn.model_selection import train_test_split\n",
    "from sklearn.metrics import classification_report\n",
    "from sklearn.metrics import confusion_matrix\n",
    "!pip install imutils\n",
    "from imutils import paths\n",
    "import matplotlib.pyplot as plt\n",
    "import numpy as np\n",
    "import argparse\n",
    "import cv2\n",
    "import os\n",
    "print(\"Hello\")"
   ]
  },
  {
   "cell_type": "code",
   "execution_count": 4,
   "metadata": {},
   "outputs": [],
   "source": [
    "dataset = 'dataset/'"
   ]
  },
  {
   "cell_type": "markdown",
   "metadata": {},
   "source": [
    "When training a deep learning network we are mindful about:\n",
    "1. Data\n",
    "2. Scoring function\n",
    "3. Loss function\n",
    "4. Weights and bias\n",
    "\n",
    "Gradient Descent is attempting to optimize our parameters for low loss and high classification accuracy via an iterative process of taking a step  in the direction that minimizes the loss. Learning rate is one of the two hyper parameters that is set for finding the optimal convergence. The other parameter defined later is the regularization penalty."
   ]
  },
  {
   "cell_type": "code",
   "execution_count": 6,
   "metadata": {},
   "outputs": [],
   "source": [
    "# Set hyperparameters\n",
    "# initialize the initial learning rate, number of epochs to train for,\n",
    "# and batch size\n",
    "INIT_LR = 1e-3\n",
    "EPOCHS = 15\n",
    "BS = 8"
   ]
  },
  {
   "cell_type": "code",
   "execution_count": 7,
   "metadata": {},
   "outputs": [
    {
     "name": "stdout",
     "output_type": "stream",
     "text": [
      "[INFO] loading images...\n",
      "label normal on image dataset/normal/004.png\n",
      "label normal on image dataset/normal/002.jpeg\n",
      "label normal on image dataset/normal/003.jpg\n",
      "label normal on image dataset/normal/017.jpeg\n",
      "label normal on image dataset/normal/005.jpg\n",
      "label normal on image dataset/normal/024.jpeg\n",
      "label normal on image dataset/normal/0010.jpg\n",
      "label normal on image dataset/normal/015.jpeg\n",
      "label normal on image dataset/normal/014.jpg\n",
      "label normal on image dataset/normal/008.jpeg\n",
      "label normal on image dataset/normal/019.jpeg\n",
      "label normal on image dataset/normal/013.jpeg\n",
      "label normal on image dataset/normal/021.jpg\n",
      "label normal on image dataset/normal/012.jpg\n",
      "label normal on image dataset/normal/009.jpeg\n",
      "label normal on image dataset/normal/007.jpeg\n",
      "label normal on image dataset/normal/023.jpg\n",
      "label normal on image dataset/normal/001.jpeg\n",
      "label normal on image dataset/normal/025.png\n",
      "label normal on image dataset/normal/008.png\n",
      "label normal on image dataset/normal/018.jpg\n",
      "label normal on image dataset/normal/020.jpeg\n",
      "label normal on image dataset/normal/016.jpeg\n",
      "label normal on image dataset/normal/022.jpeg\n",
      "label normal on image dataset/normal/011.jpeg\n",
      "label covid on image dataset/covid/000001-24.jpg\n",
      "label covid on image dataset/covid/000001-3.png\n",
      "label covid on image dataset/covid/000001-18.png\n",
      "label covid on image dataset/covid/000001-266.jpg\n",
      "label covid on image dataset/covid/000001-11.png\n",
      "label covid on image dataset/covid/000012-1.png\n",
      "label covid on image dataset/covid/000001-1.png\n",
      "label covid on image dataset/covid/000001-19.png\n",
      "label covid on image dataset/covid/000001-272.jpg\n",
      "label covid on image dataset/covid/000001-17.png\n",
      "label covid on image dataset/covid/000001-10.png\n",
      "label covid on image dataset/covid/000001-27.png\n",
      "label covid on image dataset/covid/000001-15.png\n",
      "label covid on image dataset/covid/000001-14.jpg\n",
      "label covid on image dataset/covid/000002-4.jpg\n",
      "label covid on image dataset/covid/000002-7.png\n",
      "label covid on image dataset/covid/000001-2.jpg\n",
      "label covid on image dataset/covid/000002-5.jpg\n",
      "label covid on image dataset/covid/000001-13.jpg\n",
      "label covid on image dataset/covid/000001-20.png\n",
      "label covid on image dataset/covid/000005-1.png\n",
      "label covid on image dataset/covid/000002-6.jpg\n",
      "label covid on image dataset/covid/000001-6.jpg\n",
      "label covid on image dataset/covid/000003-4.png\n",
      "label covid on image dataset/covid/000002-11-a.jpg\n"
     ]
    }
   ],
   "source": [
    "# grab the list of images in our dataset directory, then initialize\n",
    "# the list of data (i.e., images) and class images\n",
    "print(\"[INFO] loading images...\")\n",
    "imagePaths = list(paths.list_images(dataset))\n",
    "\n",
    "data = []\n",
    "labels = []\n",
    "\n",
    "# loop over the image paths\n",
    "for imagePath in imagePaths:\n",
    "    # extract the class label from the filename\n",
    "    label = imagePath.split(os.path.sep)[-2]\n",
    "    \n",
    "    print(f\"label {label} on image {imagePath}\")\n",
    "\n",
    "    # load the image, swap color channels, and resize it to be a fixed\n",
    "    # 224x224 pixels while ignoring aspect ratio\n",
    "    image = cv2.imread(imagePath)\n",
    "    image = cv2.cvtColor(image, cv2.COLOR_BGR2RGB)\n",
    "    image = cv2.resize(image, (224, 224)) # Explain why 224 and not Dr Cohen's 227px\n",
    "\n",
    "    # update the data and labels lists, respectively\n",
    "    data.append(image)\n",
    "    labels.append(label)\n",
    "    \n",
    "\n",
    "# convert the data and labels to NumPy arrays while scaling the pixel\n",
    "# intensities to the range [0, 1]\n",
    "data = np.array(data) / 255.0\n",
    "labels = np.array(labels)\n",
    "\n",
    "# perform one-hot encoding on the labels\n",
    "# Each encoded label consists of a two element array with one of the elements being \n",
    "# “hot” (i.e., 1) versus “not” (i.e., 0).\n",
    "lb = LabelBinarizer()\n",
    "labels = lb.fit_transform(labels)\n",
    "labels = to_categorical(labels)"
   ]
  },
  {
   "cell_type": "code",
   "execution_count": 8,
   "metadata": {},
   "outputs": [],
   "source": [
    "# partition the data into training and testing splits using 80% of\n",
    "# the data for training and the remaining 20% for testing\n",
    "(trainX, testX, trainY, testY) = train_test_split(data, labels, test_size=0.20, stratify=labels, random_state=42)"
   ]
  },
  {
   "cell_type": "code",
   "execution_count": 9,
   "metadata": {},
   "outputs": [],
   "source": [
    "# initialize the training data augmentation object\n",
    "trainAug = ImageDataGenerator(rotation_range=15, fill_mode=\"nearest\")"
   ]
  },
  {
   "cell_type": "markdown",
   "metadata": {},
   "source": [
    "While the word “augment” means to make something “greater” or “increase” something (in this case, data), the Keras ImageDataGenerator class actually works by:\n",
    "\n",
    "Accepting a batch of images used for training.\n",
    "Taking this batch and applying a series of random transformations to each image in the batch (including random rotation, resizing, shearing, etc.).\n",
    "Replacing the original batch with the new, randomly transformed batch.\n",
    "Training the CNN on this randomly transformed batch (i.e., the original data itself is not used for training).\n",
    "The Keras ImageDataGenerator class is not an “additive” operation. It’s not taking the original data, randomly transforming it, and then returning both the original data and transformed data.\n",
    "\n",
    "Instead, the ImageDataGenerator accepts the original data, randomly transforms it, and returns only the new, transformed data."
   ]
  },
  {
   "cell_type": "code",
   "execution_count": 10,
   "metadata": {},
   "outputs": [],
   "source": [
    "# load the VGG16 network, ensuring the head FC layer sets are left\n",
    "# off\n",
    "baseModel = VGG16(weights=\"imagenet\", include_top=False, input_tensor=Input(shape=(224, 224, 3)))"
   ]
  },
  {
   "cell_type": "code",
   "execution_count": 11,
   "metadata": {},
   "outputs": [],
   "source": [
    "# construct the head of the model that will be placed on top of the\n",
    "# the base model\n",
    "headModel = baseModel.output\n",
    "headModel = AveragePooling2D(pool_size=(4, 4))(headModel)\n",
    "headModel = Flatten(name=\"flatten\")(headModel)\n",
    "headModel = Dense(64, activation=\"relu\")(headModel)\n",
    "headModel = Dropout(0.5)(headModel)\n",
    "headModel = Dense(2, activation=\"softmax\")(headModel)"
   ]
  },
  {
   "cell_type": "code",
   "execution_count": 12,
   "metadata": {},
   "outputs": [],
   "source": [
    "# place the head FC model on top of the base model (this will become\n",
    "# the actual model we will train)\n",
    "model = Model(inputs=baseModel.input, outputs=headModel)"
   ]
  },
  {
   "cell_type": "code",
   "execution_count": 13,
   "metadata": {},
   "outputs": [],
   "source": [
    "# loop over all layers in the base model and freeze them so they will\n",
    "# *not* be updated during the first training process\n",
    "for layer in baseModel.layers:\n",
    "    layer.trainable = False"
   ]
  },
  {
   "cell_type": "code",
   "execution_count": 14,
   "metadata": {},
   "outputs": [
    {
     "name": "stdout",
     "output_type": "stream",
     "text": [
      "[INFO] compiling model...\n"
     ]
    }
   ],
   "source": [
    "# compile our model\n",
    "print(\"[INFO] compiling model...\")\n",
    "opt = Adam(lr=INIT_LR, decay=INIT_LR / EPOCHS)\n",
    "model.compile(loss=\"binary_crossentropy\", optimizer=opt, metrics=[\"accuracy\"])"
   ]
  },
  {
   "cell_type": "markdown",
   "metadata": {},
   "source": [
    "Regularization penalty - Data Augmentation - efforts to reduce test error at expense of increased training error (overfitting). "
   ]
  },
  {
   "cell_type": "code",
   "execution_count": 15,
   "metadata": {
    "scrolled": true
   },
   "outputs": [
    {
     "name": "stdout",
     "output_type": "stream",
     "text": [
      "[INFO] training head...\n",
      "WARNING:tensorflow:From <ipython-input-15-ec8a42a68c59>:3: Model.fit_generator (from tensorflow.python.keras.engine.training) is deprecated and will be removed in a future version.\n",
      "Instructions for updating:\n",
      "Please use Model.fit, which supports generators.\n",
      "Epoch 1/15\n",
      "5/5 [==============================] - 586s 117s/step - loss: 0.7962 - accuracy: 0.4750 - val_loss: 0.7205 - val_accuracy: 0.5000\n",
      "Epoch 2/15\n",
      "5/5 [==============================] - 567s 113s/step - loss: 0.8236 - accuracy: 0.4750 - val_loss: 0.6897 - val_accuracy: 0.3000\n",
      "Epoch 3/15\n",
      "5/5 [==============================] - 630s 126s/step - loss: 0.8566 - accuracy: 0.4750 - val_loss: 0.6751 - val_accuracy: 0.6000\n",
      "Epoch 4/15\n",
      "5/5 [==============================] - 700s 140s/step - loss: 0.7193 - accuracy: 0.6000 - val_loss: 0.6629 - val_accuracy: 0.6000\n",
      "Epoch 5/15\n",
      "5/5 [==============================] - 615s 123s/step - loss: 0.6885 - accuracy: 0.6000 - val_loss: 0.6529 - val_accuracy: 0.5000\n",
      "Epoch 6/15\n",
      "5/5 [==============================] - 787s 157s/step - loss: 0.6146 - accuracy: 0.6750 - val_loss: 0.6476 - val_accuracy: 0.5000\n",
      "Epoch 7/15\n",
      "5/5 [==============================] - 905s 181s/step - loss: 0.6729 - accuracy: 0.4750 - val_loss: 0.6443 - val_accuracy: 0.6000\n",
      "Epoch 8/15\n",
      "5/5 [==============================] - 865s 173s/step - loss: 0.5775 - accuracy: 0.6750 - val_loss: 0.6389 - val_accuracy: 0.5000\n",
      "Epoch 9/15\n",
      "5/5 [==============================] - 816s 163s/step - loss: 0.5909 - accuracy: 0.7000 - val_loss: 0.6354 - val_accuracy: 0.5000\n",
      "Epoch 10/15\n",
      "5/5 [==============================] - 880s 176s/step - loss: 0.5943 - accuracy: 0.6500 - val_loss: 0.6318 - val_accuracy: 0.5000\n",
      "Epoch 11/15\n",
      "5/5 [==============================] - 868s 174s/step - loss: 0.5487 - accuracy: 0.7750 - val_loss: 0.6365 - val_accuracy: 0.6000\n",
      "Epoch 12/15\n",
      "5/5 [==============================] - 817s 163s/step - loss: 0.5470 - accuracy: 0.7000 - val_loss: 0.6269 - val_accuracy: 0.6000\n",
      "Epoch 13/15\n",
      "5/5 [==============================] - 860s 172s/step - loss: 0.5802 - accuracy: 0.6500 - val_loss: 0.6197 - val_accuracy: 0.6000\n",
      "Epoch 14/15\n",
      "5/5 [==============================] - 758s 152s/step - loss: 0.5217 - accuracy: 0.8500 - val_loss: 0.6168 - val_accuracy: 0.6000\n",
      "Epoch 15/15\n",
      "5/5 [==============================] - 526s 105s/step - loss: 0.5454 - accuracy: 0.7750 - val_loss: 0.6143 - val_accuracy: 0.6000\n"
     ]
    }
   ],
   "source": [
    "# train the head of the network\n",
    "print(\"[INFO] training head...\")\n",
    "H = model.fit_generator(\n",
    "    trainAug.flow(trainX, trainY, batch_size=BS),\n",
    "    steps_per_epoch=len(trainX) // BS,\n",
    "    validation_data=(testX, testY),\n",
    "    validation_steps=len(testX) // BS,\n",
    "    epochs=EPOCHS)"
   ]
  },
  {
   "cell_type": "code",
   "execution_count": 17,
   "metadata": {},
   "outputs": [
    {
     "name": "stdout",
     "output_type": "stream",
     "text": [
      "[INFO] evaluating network...\n"
     ]
    }
   ],
   "source": [
    "# make predictions on the testing set\n",
    "print(\"[INFO] evaluating network...\")\n",
    "predIdxs = model.predict(testX, batch_size=BS)"
   ]
  },
  {
   "cell_type": "code",
   "execution_count": 18,
   "metadata": {},
   "outputs": [
    {
     "name": "stdout",
     "output_type": "stream",
     "text": [
      "              precision    recall  f1-score   support\n",
      "\n",
      "       covid       0.67      0.40      0.50         5\n",
      "      normal       0.57      0.80      0.67         5\n",
      "\n",
      "    accuracy                           0.60        10\n",
      "   macro avg       0.62      0.60      0.58        10\n",
      "weighted avg       0.62      0.60      0.58        10\n",
      "\n"
     ]
    }
   ],
   "source": [
    "# for each image in the testing set we need to find the index of the\n",
    "# label with corresponding largest predicted probability\n",
    "predIdxs = np.argmax(predIdxs, axis=1)\n",
    "\n",
    "# show a nicely formatted classification report\n",
    "print(classification_report(testY.argmax(axis=1), predIdxs, target_names=lb.classes_))"
   ]
  },
  {
   "cell_type": "markdown",
   "metadata": {},
   "source": [
    "In pattern recognition, information retrieval and classification (machine learning), precision (also called positive predictive value) is the fraction of relevant instances among the retrieved instances, while recall (also known as sensitivity) is the fraction of the total amount of relevant instances that were actually retrieved.\n",
    "\n",
    "As you can see from the results above, our automatic COVID-19 detector is obtaining ~91-92% \n",
    "accuracy on our sample dataset based solely on X-ray images — no other data, \n",
    "including Non-identifying demographics, such as age, sex, ethnicity; History of present illness, including exposure/travel and symptom history; Medical history, including major comorbidities and frailty assessment; Clinical / nursing observations, such as vital signs; All laboratory tests performed etc. was used to train this model."
   ]
  },
  {
   "cell_type": "code",
   "execution_count": 19,
   "metadata": {},
   "outputs": [],
   "source": [
    "# compute the confusion matrix and and use it to derive the raw\n",
    "# accuracy, sensitivity, and specificity\n",
    "cm = confusion_matrix(testY.argmax(axis=1), predIdxs)\n",
    "total = sum(sum(cm))\n",
    "acc = (cm[0, 0] + cm[1, 1]) / total\n",
    "sensitivity = cm[0, 0] / (cm[0, 0] + cm[0, 1])\n",
    "specificity = cm[1, 1] / (cm[1, 0] + cm[1, 1])"
   ]
  },
  {
   "cell_type": "code",
   "execution_count": 20,
   "metadata": {},
   "outputs": [
    {
     "name": "stdout",
     "output_type": "stream",
     "text": [
      "[[2 3]\n",
      " [1 4]]\n",
      "acc: 0.6000\n",
      "sensitivity: 0.4000\n",
      "specificity: 0.8000\n"
     ]
    }
   ],
   "source": [
    "# show the confusion matrix, accuracy, sensitivity, and specificity\n",
    "print(cm)\n",
    "print(\"acc: {:.4f}\".format(acc))\n",
    "print(\"sensitivity: {:.4f}\".format(sensitivity))\n",
    "print(\"specificity: {:.4f}\".format(specificity))"
   ]
  },
  {
   "cell_type": "markdown",
   "metadata": {},
   "source": [
    "We are also obtaining 100% sensitivity and 80% specificity implying that:\n",
    "\n",
    "1. Of patients that do have COVID-19 (i.e., true positives), we could accurately identify them \n",
    "as “COVID-19 positive” 100% of the time using our model.\n",
    "2. Of patients that do not have COVID-19 (i.e., true negatives), we could accurately identify them \n",
    "as “COVID-19 negative” only 80% of the time using our model."
   ]
  },
  {
   "cell_type": "markdown",
   "metadata": {},
   "source": [
    "Being able to accurately detect COVID-19 with 100% accuracy is great; however, our true negative rate is a bit concerning — we don’t want to classify someone as “COVID-19 negative” when they are “COVID-19 positive”.\n",
    "\n",
    "In fact, the last thing we want to do is tell a patient they are COVID-19 negative, and then have them go home and infect their family and friends; thereby transmitting the disease further.\n",
    "\n",
    "We also want to be really careful with our false positive rate — we don’t want to mistakenly classify someone as “COVID-19 positive”, quarantine them with other COVID-19 positive patients, and then infect a person who never actually had the virus.\n",
    "\n",
    "Balancing sensitivity and specificity is incredibly challenging when it comes to medical applications, especially infectious diseases that can be rapidly transmitted, such as COVID-19.\n",
    "\n",
    "When it comes to medical computer vision and deep learning, we must always be mindful of the fact that our predictive models can have very real consequences — a missed diagnosis can cost lives.\n",
    "\n",
    "Again, these results are gathered for proof of concept only. The accompanying results dont conform to the TRIPOD guidelines on reporting predictive models."
   ]
  },
  {
   "cell_type": "code",
   "execution_count": 21,
   "metadata": {},
   "outputs": [
    {
     "data": {
      "image/png": "[encoded data removed]",
      "text/plain": [
       "<Figure size 432x288 with 1 Axes>"
      ]
     },
     "metadata": {},
     "output_type": "display_data"
    }
   ],
   "source": [
    "# plot the training loss and accuracy\n",
    "N = EPOCHS\n",
    "plt.style.use(\"ggplot\")\n",
    "plt.figure()\n",
    "plt.plot(np.arange(0, N), H.history[\"loss\"], label=\"train_loss\")\n",
    "plt.plot(np.arange(0, N), H.history[\"val_loss\"], label=\"val_loss\")\n",
    "plt.plot(np.arange(0, N), H.history[\"accuracy\"], label=\"train_acc\")\n",
    "plt.plot(np.arange(0, N), H.history[\"val_accuracy\"], label=\"val_acc\")\n",
    "plt.title(\"Training Loss and Accuracy on COVID-19 Dataset\")\n",
    "plt.xlabel(\"Epoch #\")\n",
    "plt.ylabel(\"Loss/Accuracy\")\n",
    "plt.legend(loc=\"lower left\")\n",
    "plt.savefig('plots_5eps.png')"
   ]
  },
  {
   "cell_type": "markdown",
   "metadata": {},
   "source": [
    "As our training history plot shows, our network is not overfitting, despite having very limited training data:"
   ]
  },
  {
   "cell_type": "code",
   "execution_count": 22,
   "metadata": {},
   "outputs": [
    {
     "name": "stdout",
     "output_type": "stream",
     "text": [
      "[INFO] saving COVID-19 detector model...\n"
     ]
    }
   ],
   "source": [
    "# serialize the model to disk\n",
    "print(\"[INFO] saving COVID-19 detector model...\")\n",
    "model.save('covid-19-model-5eps', save_format=\"h5\")"
   ]
  },
  {
   "cell_type": "markdown",
   "metadata": {},
   "source": []
  },
  {
   "cell_type": "markdown",
   "metadata": {},
   "source": [
    "## Limitations, improvements, and future work"
   ]
  },
  {
   "cell_type": "markdown",
   "metadata": {},
   "source": [
    "### 1. We simply don’t have enough (reliable) data to train a COVID-19 detector.\n",
    "\n",
    "Hospitals are already overwhelmed with the number of COVID-19 cases, and given patients rights and confidentiality, it becomes even harder to assemble quality medical image datasets in a timely fashion.\n",
    "\n",
    "We imagine in the next 12-18 months we’ll have more high quality (age,sex,race,co-morbidity (underlying illness))COVID-19 image datasets; but for the time being, we can only make do with what we have.\n",
    "\n",
    "For the COVID-19 detector to be deployed in the field, it would have to go through rigorous testing by trained medical professionals, working hand-in-hand with expert deep learning practitioners. The method covered here today is certainly in that direction, but is meant for proof of concept purposes only."
   ]
  },
  {
   "cell_type": "markdown",
   "metadata": {},
   "source": [
    "### 2. Furthermore, we need to be concerned with what the model is actually “learning”.\n",
    "\n",
    "It’s possible that our model is learning patterns that are not relevant to COVID-19, and instead are just variations between the two data splits (i.e., positive versus negative COVID-19 diagnosis).\n",
    "\n",
    "It will take medical professionals and rigorous testing to validate the results coming out of our COVID-19 detector."
   ]
  },
  {
   "cell_type": "code",
   "execution_count": 23,
   "metadata": {},
   "outputs": [
    {
     "ename": "OSError",
     "evalue": "SavedModel file does not exist at: covid-19-model-5eps(1)/{saved_model.pbtxt|saved_model.pb}",
     "output_type": "error",
     "traceback": [
      "\u001b[0;31m---------------------------------------------------------------------------\u001b[0m",
      "\u001b[0;31mOSError\u001b[0m                                   Traceback (most recent call last)",
      "\u001b[0;32m<ipython-input-23-fd9218ccc64e>\u001b[0m in \u001b[0;36m<module>\u001b[0;34m\u001b[0m\n\u001b[1;32m      2\u001b[0m \u001b[0;32mimport\u001b[0m \u001b[0mtensorflow\u001b[0m \u001b[0;32mas\u001b[0m \u001b[0mtf\u001b[0m\u001b[0;34m\u001b[0m\u001b[0;34m\u001b[0m\u001b[0m\n\u001b[1;32m      3\u001b[0m \u001b[0;32mimport\u001b[0m \u001b[0mnumpy\u001b[0m \u001b[0;32mas\u001b[0m \u001b[0mnp\u001b[0m\u001b[0;34m\u001b[0m\u001b[0;34m\u001b[0m\u001b[0m\n\u001b[0;32m----> 4\u001b[0;31m \u001b[0mnetwork\u001b[0m\u001b[0;34m=\u001b[0m\u001b[0mload_model\u001b[0m\u001b[0;34m(\u001b[0m\u001b[0;34m'covid-19-model-5eps(1)'\u001b[0m\u001b[0;34m)\u001b[0m\u001b[0;34m\u001b[0m\u001b[0;34m\u001b[0m\u001b[0m\n\u001b[0m",
      "\u001b[0;32m~/anaconda3/lib/python3.8/site-packages/tensorflow/python/keras/saving/save.py\u001b[0m in \u001b[0;36mload_model\u001b[0;34m(filepath, custom_objects, compile)\u001b[0m\n\u001b[1;32m    187\u001b[0m       \u001b[0mfilepath\u001b[0m \u001b[0;34m=\u001b[0m \u001b[0mstr\u001b[0m\u001b[0;34m(\u001b[0m\u001b[0mfilepath\u001b[0m\u001b[0;34m)\u001b[0m\u001b[0;34m\u001b[0m\u001b[0;34m\u001b[0m\u001b[0m\n\u001b[1;32m    188\u001b[0m     \u001b[0;32mif\u001b[0m \u001b[0misinstance\u001b[0m\u001b[0;34m(\u001b[0m\u001b[0mfilepath\u001b[0m\u001b[0;34m,\u001b[0m \u001b[0msix\u001b[0m\u001b[0;34m.\u001b[0m\u001b[0mstring_types\u001b[0m\u001b[0;34m)\u001b[0m\u001b[0;34m:\u001b[0m\u001b[0;34m\u001b[0m\u001b[0;34m\u001b[0m\u001b[0m\n\u001b[0;32m--> 189\u001b[0;31m       \u001b[0mloader_impl\u001b[0m\u001b[0;34m.\u001b[0m\u001b[0mparse_saved_model\u001b[0m\u001b[0;34m(\u001b[0m\u001b[0mfilepath\u001b[0m\u001b[0;34m)\u001b[0m\u001b[0;34m\u001b[0m\u001b[0;34m\u001b[0m\u001b[0m\n\u001b[0m\u001b[1;32m    190\u001b[0m       \u001b[0;32mreturn\u001b[0m \u001b[0msaved_model_load\u001b[0m\u001b[0;34m.\u001b[0m\u001b[0mload\u001b[0m\u001b[0;34m(\u001b[0m\u001b[0mfilepath\u001b[0m\u001b[0;34m,\u001b[0m \u001b[0mcompile\u001b[0m\u001b[0;34m)\u001b[0m\u001b[0;34m\u001b[0m\u001b[0;34m\u001b[0m\u001b[0m\n\u001b[1;32m    191\u001b[0m \u001b[0;34m\u001b[0m\u001b[0m\n",
      "\u001b[0;32m~/anaconda3/lib/python3.8/site-packages/tensorflow/python/saved_model/loader_impl.py\u001b[0m in \u001b[0;36mparse_saved_model\u001b[0;34m(export_dir)\u001b[0m\n\u001b[1;32m    108\u001b[0m       \u001b[0;32mraise\u001b[0m \u001b[0mIOError\u001b[0m\u001b[0;34m(\u001b[0m\u001b[0;34m\"Cannot parse file %s: %s.\"\u001b[0m \u001b[0;34m%\u001b[0m \u001b[0;34m(\u001b[0m\u001b[0mpath_to_pbtxt\u001b[0m\u001b[0;34m,\u001b[0m \u001b[0mstr\u001b[0m\u001b[0;34m(\u001b[0m\u001b[0me\u001b[0m\u001b[0;34m)\u001b[0m\u001b[0;34m)\u001b[0m\u001b[0;34m)\u001b[0m\u001b[0;34m\u001b[0m\u001b[0;34m\u001b[0m\u001b[0m\n\u001b[1;32m    109\u001b[0m   \u001b[0;32melse\u001b[0m\u001b[0;34m:\u001b[0m\u001b[0;34m\u001b[0m\u001b[0;34m\u001b[0m\u001b[0m\n\u001b[0;32m--> 110\u001b[0;31m     raise IOError(\"SavedModel file does not exist at: %s/{%s|%s}\" %\n\u001b[0m\u001b[1;32m    111\u001b[0m                   (export_dir,\n\u001b[1;32m    112\u001b[0m                    \u001b[0mconstants\u001b[0m\u001b[0;34m.\u001b[0m\u001b[0mSAVED_MODEL_FILENAME_PBTXT\u001b[0m\u001b[0;34m,\u001b[0m\u001b[0;34m\u001b[0m\u001b[0;34m\u001b[0m\u001b[0m\n",
      "\u001b[0;31mOSError\u001b[0m: SavedModel file does not exist at: covid-19-model-5eps(1)/{saved_model.pbtxt|saved_model.pb}"
     ]
    }
   ],
   "source": [
    "from tensorflow.keras.models import load_model\n",
    "import tensorflow as tf\n",
    "import numpy as np\n",
    "network=load_model('covid-19-model-5eps(1)')\n"
   ]
  },
  {
   "cell_type": "code",
   "execution_count": null,
   "metadata": {},
   "outputs": [],
   "source": [
    "from keras.preprocessing.image import load_img,img_to_array\n",
    "\n",
    "img=load_img(\n",
    "    'covid.jpeg',\n",
    "    target_size=(224, 224)\n",
    ")\n",
    "# Explain why 224 and not Dr Cohen's 227px\n",
    "\n",
    "img_array=img_to_array(img)\n",
    "\n",
    "img_array=tf.expand_dims(img_array,0)"
   ]
  },
  {
   "cell_type": "code",
   "execution_count": 23,
   "metadata": {},
   "outputs": [
    {
     "name": "stdout",
     "output_type": "stream",
     "text": [
      "tf.Tensor([0.26894143 0.7310586 ], shape=(2,), dtype=float32)\n"
     ]
    }
   ],
   "source": [
    "predictions = network.predict(img_array,steps=1)\n",
    "score = tf.nn.softmax(predictions[0])\n",
    "print(score)"
   ]
  },
  {
   "cell_type": "code",
   "execution_count": 26,
   "metadata": {},
   "outputs": [
    {
     "name": "stdout",
     "output_type": "stream",
     "text": [
      "[3.1865346e-18 1.0000000e+00]\n"
     ]
    }
   ],
   "source": [
    "print(predictions[0])\n"
   ]
  },
  {
   "cell_type": "code",
   "execution_count": 27,
   "metadata": {},
   "outputs": [
    {
     "data": {
      "text/plain": [
       "'normal'"
      ]
     },
     "execution_count": 27,
     "metadata": {},
     "output_type": "execute_result"
    }
   ],
   "source": [
    "class_names = ['covid','normal']\n",
    "\n",
    "class_names[np.argmax(predictions[0])]\n"
   ]
  },
  {
   "cell_type": "code",
   "execution_count": null,
   "metadata": {},
   "outputs": [],
   "source": []
  },
  {
   "cell_type": "code",
   "execution_count": null,
   "metadata": {},
   "outputs": [],
   "source": []
  }
 ],
 "metadata": {
  "kernelspec": {
   "display_name": "Python 3",
   "language": "python",
   "name": "python3"
  },
  "language_info": {
   "codemirror_mode": {
    "name": "ipython",
    "version": 3
   },
   "file_extension": ".py",
   "mimetype": "text/x-python",
   "name": "python",
   "nbconvert_exporter": "python",
   "pygments_lexer": "ipython3",
   "version": "3.8.3"
  }
 },
 "nbformat": 4,
 "nbformat_minor": 4
}
